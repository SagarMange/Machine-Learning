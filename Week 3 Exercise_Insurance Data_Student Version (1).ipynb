{
 "cells": [
  {
   "cell_type": "markdown",
   "metadata": {
    "id": "4clpsOCrB-lF"
   },
   "source": [
    "# Week 3 Exercise: Insurance Cost Data\n",
    "\n"
   ]
  },
  {
   "cell_type": "markdown",
   "metadata": {
    "id": "vBWVB849ObH3"
   },
   "source": [
    "### Step 1: Data Preprocessing\n",
    "\n",
    "#### Q1. What is the purpose of performing a linear regression model to the insurance data?\n",
    "\n",
    "\n",
    "First let's import libraries, read the data and get an overview of the data. \n",
    "\n",
    "###### code for reference\n",
    "import pandas as pd \n",
    "\n",
    "insurance = pd.read_csv()\n",
    "\n",
    "insurance.head()\n",
    "\n",
    "insurance.shape\n",
    "\n",
    "insurance.describe()\n",
    "\n",
    "insurance.dtypes"
   ]
  },
  {
   "cell_type": "code",
   "execution_count": 1,
   "metadata": {
    "colab": {
     "base_uri": "https://localhost:8080/",
     "height": 250
    },
    "executionInfo": {
     "elapsed": 1100,
     "status": "ok",
     "timestamp": 1601007313594,
     "user": {
      "displayName": "Xiqing Sha",
      "photoUrl": "",
      "userId": "00149820978001691006"
     },
     "user_tz": 420
    },
    "id": "x-kEGoYme2zu",
    "outputId": "3c41d951-bd06-4f25-f682-07d0d1cdcf04"
   },
   "outputs": [],
   "source": [
    "import pandas as pd\n",
    "import numpy as np\n",
    "import seaborn as sns"
   ]
  },
  {
   "cell_type": "code",
   "execution_count": 2,
   "metadata": {},
   "outputs": [],
   "source": [
    "insurance=pd.read_csv(r\"C:\\Users\\pdhotre\\Desktop\\CIS 508 Data Mining\\Week 4 assignment\\insurance.csv\")"
   ]
  },
  {
   "cell_type": "code",
   "execution_count": 3,
   "metadata": {},
   "outputs": [
    {
     "data": {
      "text/html": [
       "<div>\n",
       "<style scoped>\n",
       "    .dataframe tbody tr th:only-of-type {\n",
       "        vertical-align: middle;\n",
       "    }\n",
       "\n",
       "    .dataframe tbody tr th {\n",
       "        vertical-align: top;\n",
       "    }\n",
       "\n",
       "    .dataframe thead th {\n",
       "        text-align: right;\n",
       "    }\n",
       "</style>\n",
       "<table border=\"1\" class=\"dataframe\">\n",
       "  <thead>\n",
       "    <tr style=\"text-align: right;\">\n",
       "      <th></th>\n",
       "      <th>age</th>\n",
       "      <th>sex</th>\n",
       "      <th>bmi</th>\n",
       "      <th>children</th>\n",
       "      <th>smoker</th>\n",
       "      <th>region</th>\n",
       "      <th>charges</th>\n",
       "    </tr>\n",
       "  </thead>\n",
       "  <tbody>\n",
       "    <tr>\n",
       "      <th>0</th>\n",
       "      <td>19</td>\n",
       "      <td>female</td>\n",
       "      <td>27.900</td>\n",
       "      <td>0</td>\n",
       "      <td>yes</td>\n",
       "      <td>southwest</td>\n",
       "      <td>16884.92400</td>\n",
       "    </tr>\n",
       "    <tr>\n",
       "      <th>1</th>\n",
       "      <td>18</td>\n",
       "      <td>male</td>\n",
       "      <td>33.770</td>\n",
       "      <td>1</td>\n",
       "      <td>no</td>\n",
       "      <td>southeast</td>\n",
       "      <td>1725.55230</td>\n",
       "    </tr>\n",
       "    <tr>\n",
       "      <th>2</th>\n",
       "      <td>28</td>\n",
       "      <td>male</td>\n",
       "      <td>33.000</td>\n",
       "      <td>3</td>\n",
       "      <td>no</td>\n",
       "      <td>southeast</td>\n",
       "      <td>4449.46200</td>\n",
       "    </tr>\n",
       "    <tr>\n",
       "      <th>3</th>\n",
       "      <td>33</td>\n",
       "      <td>male</td>\n",
       "      <td>22.705</td>\n",
       "      <td>0</td>\n",
       "      <td>no</td>\n",
       "      <td>northwest</td>\n",
       "      <td>21984.47061</td>\n",
       "    </tr>\n",
       "    <tr>\n",
       "      <th>4</th>\n",
       "      <td>32</td>\n",
       "      <td>male</td>\n",
       "      <td>28.880</td>\n",
       "      <td>0</td>\n",
       "      <td>no</td>\n",
       "      <td>northwest</td>\n",
       "      <td>3866.85520</td>\n",
       "    </tr>\n",
       "  </tbody>\n",
       "</table>\n",
       "</div>"
      ],
      "text/plain": [
       "   age     sex     bmi  children smoker     region      charges\n",
       "0   19  female  27.900         0    yes  southwest  16884.92400\n",
       "1   18    male  33.770         1     no  southeast   1725.55230\n",
       "2   28    male  33.000         3     no  southeast   4449.46200\n",
       "3   33    male  22.705         0     no  northwest  21984.47061\n",
       "4   32    male  28.880         0     no  northwest   3866.85520"
      ]
     },
     "execution_count": 3,
     "metadata": {},
     "output_type": "execute_result"
    }
   ],
   "source": [
    "insurance.head()"
   ]
  },
  {
   "cell_type": "code",
   "execution_count": 4,
   "metadata": {},
   "outputs": [
    {
     "data": {
      "text/html": [
       "<div>\n",
       "<style scoped>\n",
       "    .dataframe tbody tr th:only-of-type {\n",
       "        vertical-align: middle;\n",
       "    }\n",
       "\n",
       "    .dataframe tbody tr th {\n",
       "        vertical-align: top;\n",
       "    }\n",
       "\n",
       "    .dataframe thead th {\n",
       "        text-align: right;\n",
       "    }\n",
       "</style>\n",
       "<table border=\"1\" class=\"dataframe\">\n",
       "  <thead>\n",
       "    <tr style=\"text-align: right;\">\n",
       "      <th></th>\n",
       "      <th>age</th>\n",
       "      <th>bmi</th>\n",
       "      <th>children</th>\n",
       "      <th>charges</th>\n",
       "    </tr>\n",
       "  </thead>\n",
       "  <tbody>\n",
       "    <tr>\n",
       "      <th>count</th>\n",
       "      <td>1338.000000</td>\n",
       "      <td>1338.000000</td>\n",
       "      <td>1338.000000</td>\n",
       "      <td>1338.000000</td>\n",
       "    </tr>\n",
       "    <tr>\n",
       "      <th>mean</th>\n",
       "      <td>39.207025</td>\n",
       "      <td>30.663397</td>\n",
       "      <td>1.094918</td>\n",
       "      <td>13270.422265</td>\n",
       "    </tr>\n",
       "    <tr>\n",
       "      <th>std</th>\n",
       "      <td>14.049960</td>\n",
       "      <td>6.098187</td>\n",
       "      <td>1.205493</td>\n",
       "      <td>12110.011237</td>\n",
       "    </tr>\n",
       "    <tr>\n",
       "      <th>min</th>\n",
       "      <td>18.000000</td>\n",
       "      <td>15.960000</td>\n",
       "      <td>0.000000</td>\n",
       "      <td>1121.873900</td>\n",
       "    </tr>\n",
       "    <tr>\n",
       "      <th>25%</th>\n",
       "      <td>27.000000</td>\n",
       "      <td>26.296250</td>\n",
       "      <td>0.000000</td>\n",
       "      <td>4740.287150</td>\n",
       "    </tr>\n",
       "    <tr>\n",
       "      <th>50%</th>\n",
       "      <td>39.000000</td>\n",
       "      <td>30.400000</td>\n",
       "      <td>1.000000</td>\n",
       "      <td>9382.033000</td>\n",
       "    </tr>\n",
       "    <tr>\n",
       "      <th>75%</th>\n",
       "      <td>51.000000</td>\n",
       "      <td>34.693750</td>\n",
       "      <td>2.000000</td>\n",
       "      <td>16639.912515</td>\n",
       "    </tr>\n",
       "    <tr>\n",
       "      <th>max</th>\n",
       "      <td>64.000000</td>\n",
       "      <td>53.130000</td>\n",
       "      <td>5.000000</td>\n",
       "      <td>63770.428010</td>\n",
       "    </tr>\n",
       "  </tbody>\n",
       "</table>\n",
       "</div>"
      ],
      "text/plain": [
       "               age          bmi     children       charges\n",
       "count  1338.000000  1338.000000  1338.000000   1338.000000\n",
       "mean     39.207025    30.663397     1.094918  13270.422265\n",
       "std      14.049960     6.098187     1.205493  12110.011237\n",
       "min      18.000000    15.960000     0.000000   1121.873900\n",
       "25%      27.000000    26.296250     0.000000   4740.287150\n",
       "50%      39.000000    30.400000     1.000000   9382.033000\n",
       "75%      51.000000    34.693750     2.000000  16639.912515\n",
       "max      64.000000    53.130000     5.000000  63770.428010"
      ]
     },
     "execution_count": 4,
     "metadata": {},
     "output_type": "execute_result"
    }
   ],
   "source": [
    "insurance.describe()"
   ]
  },
  {
   "cell_type": "markdown",
   "metadata": {
    "id": "wxG0r4th9Ohi"
   },
   "source": [
    "### Step 2: Correlation\n",
    "\n",
    "#### Q2. Which variable has the highest positive correlation with the target variable \"charges\"?\n",
    "\n",
    "To answer this question, you can either create an correlation table, or create a heatmap to see the correlations between numerical variables.\n",
    "\n",
    "##### code for reference\n",
    "1. correlation table:\n",
    "\n",
    "insurance.corr()\n",
    "\n",
    "2. heatmap\n",
    "\n",
    "import seaborn as sns\n",
    "\n",
    "import matplotlib.pyplot as plt \n",
    "\n",
    "plt.figure(figsize=(14, 6))\n",
    "\n",
    "sns.heatmap(corr, annot = True,cmap = sns.diverging_palette(20, 220, n=200))\n",
    "\n",
    "plt.title('Correlation Heatmap')"
   ]
  },
  {
   "cell_type": "code",
   "execution_count": 8,
   "metadata": {
    "colab": {
     "base_uri": "https://localhost:8080/",
     "height": 503
    },
    "executionInfo": {
     "elapsed": 549,
     "status": "ok",
     "timestamp": 1599975985371,
     "user": {
      "displayName": "Xiqing Sha",
      "photoUrl": "",
      "userId": "00149820978001691006"
     },
     "user_tz": 420
    },
    "id": "AQezvcAK9R3Q",
    "outputId": "d5b1287d-9a67-43bc-9741-1b3fa03148e0"
   },
   "outputs": [],
   "source": [
    "ins = insurance.corr()\n"
   ]
  },
  {
   "cell_type": "code",
   "execution_count": 9,
   "metadata": {},
   "outputs": [
    {
     "ename": "NameError",
     "evalue": "name 'plt' is not defined",
     "output_type": "error",
     "traceback": [
      "\u001b[1;31m---------------------------------------------------------------------------\u001b[0m",
      "\u001b[1;31mNameError\u001b[0m                                 Traceback (most recent call last)",
      "Input \u001b[1;32mIn [9]\u001b[0m, in \u001b[0;36m<cell line: 3>\u001b[1;34m()\u001b[0m\n\u001b[0;32m      1\u001b[0m sns\u001b[38;5;241m.\u001b[39mheatmap(ins, annot \u001b[38;5;241m=\u001b[39m \u001b[38;5;28;01mTrue\u001b[39;00m,cmap \u001b[38;5;241m=\u001b[39m sns\u001b[38;5;241m.\u001b[39mdiverging_palette(\u001b[38;5;241m20\u001b[39m, \u001b[38;5;241m220\u001b[39m, n\u001b[38;5;241m=\u001b[39m\u001b[38;5;241m200\u001b[39m))\n\u001b[1;32m----> 3\u001b[0m \u001b[43mplt\u001b[49m\u001b[38;5;241m.\u001b[39mtitle(\u001b[38;5;124m'\u001b[39m\u001b[38;5;124mCorrelation Heatmap\u001b[39m\u001b[38;5;124m'\u001b[39m)\n",
      "\u001b[1;31mNameError\u001b[0m: name 'plt' is not defined"
     ]
    },
    {
     "data": {
      "image/png": "[encoded data removed]",
      "text/plain": [
       "<Figure size 432x288 with 2 Axes>"
      ]
     },
     "metadata": {
      "needs_background": "light"
     },
     "output_type": "display_data"
    }
   ],
   "source": [
    "sns.heatmap(ins, annot = True,cmap = sns.diverging_palette(20, 220, n=200))\n",
    "\n",
    "plt.title('Correlation Heatmap')"
   ]
  },
  {
   "cell_type": "markdown",
   "metadata": {
    "id": "K00gDdGqzDz8"
   },
   "source": [
    "### Step 3. Train-test split\n",
    "In this step, you need to perform label encoding and split the data into training and test.\n",
    "\n",
    "#### Q3. If we want to perform label encoding for the predictors, which is the following syntax would you use?\n",
    "\n",
    "\n",
    "#### Q4: Make a 80 (training) & 20 (test) split of the sample data. How many rows and columns are there in X_train set?\n",
    "\n",
    "\n",
    "To answer these two questions, you need to divide the data into “attributes” and “labels”. X variable contains all the attributes/features and y variable contains labels.Then perform label encoding for predictors, and split the dataset into training set and test set.\n",
    "\n",
    "1. First you need to perform labelencoding for predictors since there are several categorical variables.\n",
    "\n",
    "#### code for reference\n",
    "X = pd.get_dummies(insurance.iloc[ , ], drop_first = True)\n",
    "\n",
    "y = insurance.iloc[ , ]          \n",
    "\n",
    "or you can use:\n",
    "\n",
    "X = pd.get_dummies(insurance[[\"predictor name here\"]], drop_first = True)\n",
    "\n",
    "y = insurance[['target variable name here']]\n"
   ]
  },
  {
   "cell_type": "code",
   "execution_count": 18,
   "metadata": {
    "colab": {
     "base_uri": "https://localhost:8080/",
     "height": 433
    },
    "executionInfo": {
     "elapsed": 408,
     "status": "ok",
     "timestamp": 1600985985147,
     "user": {
      "displayName": "Xiqing Sha",
      "photoUrl": "",
      "userId": "00149820978001691006"
     },
     "user_tz": 420
    },
    "id": "7u8neLP9M1uu",
    "outputId": "a6971a38-ea5c-4e69-d3b1-ebb99ce3b899"
   },
   "outputs": [],
   "source": [
    "X = pd.get_dummies(insurance.iloc[ : , 0:6], drop_first = True)\n",
    "\n",
    "y = insurance[['charges']]"
   ]
  },
  {
   "cell_type": "code",
   "execution_count": 19,
   "metadata": {},
   "outputs": [
    {
     "data": {
      "text/html": [
       "<div>\n",
       "<style scoped>\n",
       "    .dataframe tbody tr th:only-of-type {\n",
       "        vertical-align: middle;\n",
       "    }\n",
       "\n",
       "    .dataframe tbody tr th {\n",
       "        vertical-align: top;\n",
       "    }\n",
       "\n",
       "    .dataframe thead th {\n",
       "        text-align: right;\n",
       "    }\n",
       "</style>\n",
       "<table border=\"1\" class=\"dataframe\">\n",
       "  <thead>\n",
       "    <tr style=\"text-align: right;\">\n",
       "      <th></th>\n",
       "      <th>age</th>\n",
       "      <th>bmi</th>\n",
       "      <th>children</th>\n",
       "      <th>sex_male</th>\n",
       "      <th>smoker_yes</th>\n",
       "      <th>region_northwest</th>\n",
       "      <th>region_southeast</th>\n",
       "      <th>region_southwest</th>\n",
       "    </tr>\n",
       "  </thead>\n",
       "  <tbody>\n",
       "    <tr>\n",
       "      <th>0</th>\n",
       "      <td>19</td>\n",
       "      <td>27.900</td>\n",
       "      <td>0</td>\n",
       "      <td>0</td>\n",
       "      <td>1</td>\n",
       "      <td>0</td>\n",
       "      <td>0</td>\n",
       "      <td>1</td>\n",
       "    </tr>\n",
       "    <tr>\n",
       "      <th>1</th>\n",
       "      <td>18</td>\n",
       "      <td>33.770</td>\n",
       "      <td>1</td>\n",
       "      <td>1</td>\n",
       "      <td>0</td>\n",
       "      <td>0</td>\n",
       "      <td>1</td>\n",
       "      <td>0</td>\n",
       "    </tr>\n",
       "    <tr>\n",
       "      <th>2</th>\n",
       "      <td>28</td>\n",
       "      <td>33.000</td>\n",
       "      <td>3</td>\n",
       "      <td>1</td>\n",
       "      <td>0</td>\n",
       "      <td>0</td>\n",
       "      <td>1</td>\n",
       "      <td>0</td>\n",
       "    </tr>\n",
       "    <tr>\n",
       "      <th>3</th>\n",
       "      <td>33</td>\n",
       "      <td>22.705</td>\n",
       "      <td>0</td>\n",
       "      <td>1</td>\n",
       "      <td>0</td>\n",
       "      <td>1</td>\n",
       "      <td>0</td>\n",
       "      <td>0</td>\n",
       "    </tr>\n",
       "    <tr>\n",
       "      <th>4</th>\n",
       "      <td>32</td>\n",
       "      <td>28.880</td>\n",
       "      <td>0</td>\n",
       "      <td>1</td>\n",
       "      <td>0</td>\n",
       "      <td>1</td>\n",
       "      <td>0</td>\n",
       "      <td>0</td>\n",
       "    </tr>\n",
       "    <tr>\n",
       "      <th>...</th>\n",
       "      <td>...</td>\n",
       "      <td>...</td>\n",
       "      <td>...</td>\n",
       "      <td>...</td>\n",
       "      <td>...</td>\n",
       "      <td>...</td>\n",
       "      <td>...</td>\n",
       "      <td>...</td>\n",
       "    </tr>\n",
       "    <tr>\n",
       "      <th>1333</th>\n",
       "      <td>50</td>\n",
       "      <td>30.970</td>\n",
       "      <td>3</td>\n",
       "      <td>1</td>\n",
       "      <td>0</td>\n",
       "      <td>1</td>\n",
       "      <td>0</td>\n",
       "      <td>0</td>\n",
       "    </tr>\n",
       "    <tr>\n",
       "      <th>1334</th>\n",
       "      <td>18</td>\n",
       "      <td>31.920</td>\n",
       "      <td>0</td>\n",
       "      <td>0</td>\n",
       "      <td>0</td>\n",
       "      <td>0</td>\n",
       "      <td>0</td>\n",
       "      <td>0</td>\n",
       "    </tr>\n",
       "    <tr>\n",
       "      <th>1335</th>\n",
       "      <td>18</td>\n",
       "      <td>36.850</td>\n",
       "      <td>0</td>\n",
       "      <td>0</td>\n",
       "      <td>0</td>\n",
       "      <td>0</td>\n",
       "      <td>1</td>\n",
       "      <td>0</td>\n",
       "    </tr>\n",
       "    <tr>\n",
       "      <th>1336</th>\n",
       "      <td>21</td>\n",
       "      <td>25.800</td>\n",
       "      <td>0</td>\n",
       "      <td>0</td>\n",
       "      <td>0</td>\n",
       "      <td>0</td>\n",
       "      <td>0</td>\n",
       "      <td>1</td>\n",
       "    </tr>\n",
       "    <tr>\n",
       "      <th>1337</th>\n",
       "      <td>61</td>\n",
       "      <td>29.070</td>\n",
       "      <td>0</td>\n",
       "      <td>0</td>\n",
       "      <td>1</td>\n",
       "      <td>1</td>\n",
       "      <td>0</td>\n",
       "      <td>0</td>\n",
       "    </tr>\n",
       "  </tbody>\n",
       "</table>\n",
       "<p>1338 rows × 8 columns</p>\n",
       "</div>"
      ],
      "text/plain": [
       "      age     bmi  children  sex_male  smoker_yes  region_northwest  \\\n",
       "0      19  27.900         0         0           1                 0   \n",
       "1      18  33.770         1         1           0                 0   \n",
       "2      28  33.000         3         1           0                 0   \n",
       "3      33  22.705         0         1           0                 1   \n",
       "4      32  28.880         0         1           0                 1   \n",
       "...   ...     ...       ...       ...         ...               ...   \n",
       "1333   50  30.970         3         1           0                 1   \n",
       "1334   18  31.920         0         0           0                 0   \n",
       "1335   18  36.850         0         0           0                 0   \n",
       "1336   21  25.800         0         0           0                 0   \n",
       "1337   61  29.070         0         0           1                 1   \n",
       "\n",
       "      region_southeast  region_southwest  \n",
       "0                    0                 1  \n",
       "1                    1                 0  \n",
       "2                    1                 0  \n",
       "3                    0                 0  \n",
       "4                    0                 0  \n",
       "...                ...               ...  \n",
       "1333                 0                 0  \n",
       "1334                 0                 0  \n",
       "1335                 1                 0  \n",
       "1336                 0                 1  \n",
       "1337                 0                 0  \n",
       "\n",
       "[1338 rows x 8 columns]"
      ]
     },
     "execution_count": 19,
     "metadata": {},
     "output_type": "execute_result"
    }
   ],
   "source": [
    "X"
   ]
  },
  {
   "cell_type": "markdown",
   "metadata": {},
   "source": [
    "2. Then, use train_test_split to divide data into X_train, X_test, y_train, y_test\n",
    "\n",
    "#### code for reference\n",
    "\n",
    "from sklearn.model_selection import train_test_split \n",
    "\n",
    "X_train, X_test, y_train, y_test = train_test_split(X, y, test_size=0.2, random_state=0)\n",
    "\n",
    "X_train.shape"
   ]
  },
  {
   "cell_type": "code",
   "execution_count": 12,
   "metadata": {
    "colab": {
     "base_uri": "https://localhost:8080/",
     "height": 35
    },
    "executionInfo": {
     "elapsed": 862,
     "status": "ok",
     "timestamp": 1601007324567,
     "user": {
      "displayName": "Xiqing Sha",
      "photoUrl": "",
      "userId": "00149820978001691006"
     },
     "user_tz": 420
    },
    "id": "x8_wUMtn0LRP",
    "outputId": "7a118249-3e56-4560-b7ef-7728a8fd45d0"
   },
   "outputs": [
    {
     "data": {
      "text/plain": [
       "(1070, 8)"
      ]
     },
     "execution_count": 12,
     "metadata": {},
     "output_type": "execute_result"
    }
   ],
   "source": [
    "from sklearn.model_selection import train_test_split\n",
    "\n",
    "X_train, X_test, y_train, y_test = train_test_split(X, y, test_size=0.2, random_state=0)\n",
    "\n",
    "X_train.shape"
   ]
  },
  {
   "cell_type": "markdown",
   "metadata": {
    "id": "MqwFPBf60Ujz"
   },
   "source": [
    "### Step 4. Train a linear regression model on training set\n",
    "\n",
    "#### Q5: Perform a multiple linear regression analysis using sklearn library. Which variable has the highest coefficient in predicting insurance charges?\n",
    "\n",
    "\n",
    "To answer this question, you need to train a linear regression model on the training set and estimate the coefficients.\n",
    "\n",
    "#### code for reference \n",
    "from sklearn.linear_model import LinearRegression\n",
    "\n",
    "insurance_regressor = LinearRegression()  \n",
    "\n",
    "insurance_regressor.fit(X_train, y_train)\n",
    "\n",
    "coeff_df = pd.DataFrame(insurance_regressor.coef_,X.columns, columns=['Coeffient',]) \n",
    "\n",
    "coeff_df"
   ]
  },
  {
   "cell_type": "code",
   "execution_count": 13,
   "metadata": {
    "colab": {
     "base_uri": "https://localhost:8080/",
     "height": 386
    },
    "executionInfo": {
     "elapsed": 390,
     "status": "ok",
     "timestamp": 1601007327322,
     "user": {
      "displayName": "Xiqing Sha",
      "photoUrl": "",
      "userId": "00149820978001691006"
     },
     "user_tz": 420
    },
    "id": "Vma9GsaQ0kx-",
    "outputId": "3fe0afac-319b-4984-c20c-8436ecb9aa2a"
   },
   "outputs": [
    {
     "data": {
      "text/html": [
       "<div>\n",
       "<style scoped>\n",
       "    .dataframe tbody tr th:only-of-type {\n",
       "        vertical-align: middle;\n",
       "    }\n",
       "\n",
       "    .dataframe tbody tr th {\n",
       "        vertical-align: top;\n",
       "    }\n",
       "\n",
       "    .dataframe thead th {\n",
       "        text-align: right;\n",
       "    }\n",
       "</style>\n",
       "<table border=\"1\" class=\"dataframe\">\n",
       "  <thead>\n",
       "    <tr style=\"text-align: right;\">\n",
       "      <th></th>\n",
       "      <th>age</th>\n",
       "      <th>bmi</th>\n",
       "      <th>children</th>\n",
       "      <th>sex_male</th>\n",
       "      <th>smoker_yes</th>\n",
       "      <th>region_northwest</th>\n",
       "      <th>region_southeast</th>\n",
       "      <th>region_southwest</th>\n",
       "    </tr>\n",
       "  </thead>\n",
       "  <tbody>\n",
       "    <tr>\n",
       "      <th>0</th>\n",
       "      <td>253.7005</td>\n",
       "      <td>335.962814</td>\n",
       "      <td>436.910121</td>\n",
       "      <td>-15.463728</td>\n",
       "      <td>23605.017267</td>\n",
       "      <td>-260.132732</td>\n",
       "      <td>-913.278834</td>\n",
       "      <td>-761.948706</td>\n",
       "    </tr>\n",
       "  </tbody>\n",
       "</table>\n",
       "</div>"
      ],
      "text/plain": [
       "        age         bmi    children   sex_male    smoker_yes  \\\n",
       "0  253.7005  335.962814  436.910121 -15.463728  23605.017267   \n",
       "\n",
       "   region_northwest  region_southeast  region_southwest  \n",
       "0       -260.132732       -913.278834       -761.948706  "
      ]
     },
     "execution_count": 13,
     "metadata": {},
     "output_type": "execute_result"
    }
   ],
   "source": [
    "from sklearn.linear_model import LinearRegression\n",
    "insurance_regressor = LinearRegression()\n",
    "insurance_regressor.fit(X_train, y_train)\n",
    "coeff_df = pd.DataFrame(insurance_regressor.coef_, columns= X.columns)\n",
    "coeff_df"
   ]
  },
  {
   "cell_type": "markdown",
   "metadata": {},
   "source": [
    "#### Q6: Develop a regression model using statsmodels. Which of the following variables are not significant (with a margin of error 5%) in predicting the insurance charges?\n",
    "\n",
    "#### Q7: What is the coefficient of determination in the model? (hint: watch lecture videos of this week)\n",
    "\n",
    "\n",
    "To answer these two questions, you need to use statsmodel.api library to estimate the p values for each of predictors.\n",
    "\n",
    "#### code for reference\n",
    "import statsmodels.api as sm\n",
    "\n",
    "X_train2 = sm.add_constant(X_train)\n",
    "\n",
    "est = sm.OLS(y_train, X_train2)\n",
    "\n",
    "est2 = est.fit()\n",
    "\n",
    "print(est2.summary())\n"
   ]
  },
  {
   "cell_type": "code",
   "execution_count": 14,
   "metadata": {
    "colab": {
     "base_uri": "https://localhost:8080/",
     "height": 713
    },
    "executionInfo": {
     "elapsed": 1243,
     "status": "ok",
     "timestamp": 1601007331572,
     "user": {
      "displayName": "Xiqing Sha",
      "photoUrl": "",
      "userId": "00149820978001691006"
     },
     "user_tz": 420
    },
    "id": "wDpR3NzQh9QB",
    "outputId": "26aae9c2-abfe-4b7a-fa9a-385a41e4d425"
   },
   "outputs": [
    {
     "name": "stdout",
     "output_type": "stream",
     "text": [
      "                            OLS Regression Results                            \n",
      "==============================================================================\n",
      "Dep. Variable:                charges   R-squared:                       0.737\n",
      "Model:                            OLS   Adj. R-squared:                  0.735\n",
      "Method:                 Least Squares   F-statistic:                     371.7\n",
      "Date:                Sat, 04 Feb 2023   Prob (F-statistic):          1.85e-301\n",
      "Time:                        21:44:01   Log-Likelihood:                -10851.\n",
      "No. Observations:                1070   AIC:                         2.172e+04\n",
      "Df Residuals:                    1061   BIC:                         2.177e+04\n",
      "Df Model:                           8                                         \n",
      "Covariance Type:            nonrobust                                         \n",
      "====================================================================================\n",
      "                       coef    std err          t      P>|t|      [0.025      0.975]\n",
      "------------------------------------------------------------------------------------\n",
      "const            -1.183e+04   1127.759    -10.488      0.000    -1.4e+04   -9615.183\n",
      "age                253.7005     13.530     18.751      0.000     227.152     280.249\n",
      "bmi                335.9628     32.228     10.424      0.000     272.724     399.201\n",
      "children           436.9101    156.584      2.790      0.005     129.661     744.159\n",
      "sex_male           -15.4637    378.193     -0.041      0.967    -757.555     726.627\n",
      "smoker_yes        2.361e+04    470.606     50.159      0.000    2.27e+04    2.45e+04\n",
      "region_northwest  -260.1327    550.305     -0.473      0.637   -1339.943     819.678\n",
      "region_southeast  -913.2788    549.905     -1.661      0.097   -1992.304     165.747\n",
      "region_southwest  -761.9487    543.309     -1.402      0.161   -1828.031     304.134\n",
      "==============================================================================\n",
      "Omnibus:                      256.825   Durbin-Watson:                   1.994\n",
      "Prob(Omnibus):                  0.000   Jarque-Bera (JB):              620.044\n",
      "Skew:                           1.279   Prob(JB):                    2.29e-135\n",
      "Kurtosis:                       5.715   Cond. No.                         314.\n",
      "==============================================================================\n",
      "\n",
      "Notes:\n",
      "[1] Standard Errors assume that the covariance matrix of the errors is correctly specified.\n"
     ]
    }
   ],
   "source": [
    "import statsmodels.api as sm\n",
    "\n",
    "X_train2 = sm.add_constant(X_train)\n",
    "\n",
    "est = sm.OLS(y_train, X_train2)\n",
    "\n",
    "est2 = est.fit()\n",
    "\n",
    "print(est2.summary())\n"
   ]
  },
  {
   "cell_type": "markdown",
   "metadata": {
    "id": "B_4kBMyCAKXm"
   },
   "source": [
    "### Step 6. Evaluate the model on test data\n",
    "\n",
    "#### Q8: What is the Root Mean Squared Error for the test set?\n",
    "\n",
    "#### Q9: Based on the value of Root Mean Squared Error, which data set performs better in predicting insurance charges? \n",
    "To answer theset two questions,\n",
    "\n",
    "1. first you need to apply the linear regression model on both training set and test set.\n",
    "\n",
    "#### code for reference\n",
    "y_train_pred =insurance_regressor.predict(X_train)\n",
    "\n",
    "y_test_pred = insurance_regressor.predict(X_test)"
   ]
  },
  {
   "cell_type": "code",
   "execution_count": 15,
   "metadata": {
    "id": "mNFlsSdOAO3v"
   },
   "outputs": [],
   "source": [
    "y_train_pred = insurance_regressor.predict(X_train)\n",
    "y_test_pred = insurance_regressor.predict(X_test)"
   ]
  },
  {
   "cell_type": "markdown",
   "metadata": {},
   "source": [
    "2. Then import metrics and numpy to estimate the Root Mean Squared Error.\n",
    "\n",
    "#### code for reference\n",
    "\n",
    "from sklearn import metrics\n",
    "\n",
    "import numpy as np\n",
    "\n",
    "print('Root Mean Squared Error on Test Data:', np.sqrt(metrics.mean_squared_error(y_test, y_test_pred)))\n",
    "\n",
    "print('Root Mean Squared Error on Training Data:', np.sqrt(metrics.mean_squared_error(y_train, y_train_pred)))"
   ]
  },
  {
   "cell_type": "code",
   "execution_count": 16,
   "metadata": {
    "id": "LydP9osfNKpn"
   },
   "outputs": [
    {
     "name": "stdout",
     "output_type": "stream",
     "text": [
      "Root Mean Squared Error on Test Data: 5641.62655885019\n",
      "Root Mean Squared Error on Training Data: 6140.157418880165\n"
     ]
    }
   ],
   "source": [
    "from sklearn import metrics\n",
    "\n",
    "import numpy as np\n",
    "\n",
    "print('Root Mean Squared Error on Test Data:', np.sqrt(metrics.mean_squared_error(y_test, y_test_pred)))\n",
    "\n",
    "print('Root Mean Squared Error on Training Data:', np.sqrt(metrics.mean_squared_error(y_train, y_train_pred)))"
   ]
  },
  {
   "cell_type": "markdown",
   "metadata": {},
   "source": [
    "#### Q10. Which set performs better of percent variance explained by the model?\n",
    "\n",
    "To answer this question, you need to use **r2_score** to calculate r squared for test set.\n",
    "\n",
    "#### code for reference\n",
    "from sklearn.metrics import r2_score\n",
    "\n",
    "r_sq_test = r2_score(y_test, y_test_pred)\n",
    "\n",
    "print('R squared on test set:', r_sq_test)\n"
   ]
  },
  {
   "cell_type": "code",
   "execution_count": 17,
   "metadata": {
    "colab": {
     "base_uri": "https://localhost:8080/",
     "height": 35
    },
    "executionInfo": {
     "elapsed": 335,
     "status": "ok",
     "timestamp": 1601007364990,
     "user": {
      "displayName": "Xiqing Sha",
      "photoUrl": "",
      "userId": "00149820978001691006"
     },
     "user_tz": 420
    },
    "id": "mHlxIOqYAwNP",
    "outputId": "900885df-0a3d-4aa6-e538-e95230b686dc"
   },
   "outputs": [
    {
     "name": "stdout",
     "output_type": "stream",
     "text": [
      "R squared on test set: 0.7999876970680433\n"
     ]
    }
   ],
   "source": [
    "from sklearn.metrics import r2_score\n",
    "\n",
    "r_sq_test = r2_score(y_test, y_test_pred)\n",
    "\n",
    "print('R squared on test set:', r_sq_test)\n"
   ]
  },
  {
   "cell_type": "code",
   "execution_count": 20,
   "metadata": {},
   "outputs": [
    {
     "name": "stdout",
     "output_type": "stream",
     "text": [
      "R squared on training set: 0.7370262574551634\n"
     ]
    }
   ],
   "source": [
    "r_sq_train = r2_score(y_train, y_train_pred)\n",
    "print('R squared on training set:', r_sq_train)"
   ]
  },
  {
   "cell_type": "code",
   "execution_count": null,
   "metadata": {},
   "outputs": [],
   "source": [
    "\n",
    "\n",
    "\n",
    "\n",
    "\n",
    "\n",
    "\n",
    "\n",
    "\n",
    "\n",
    "\n"
   ]
  }
 ],
 "metadata": {
  "colab": {
   "authorship_tag": "ABX9TyP4RHoacDs51lq209CDbUQx",
   "collapsed_sections": [],
   "name": "Linear Regression.ipynb",
   "provenance": []
  },
  "kernelspec": {
   "display_name": "Python 3 (ipykernel)",
   "language": "python",
   "name": "python3"
  },
  "language_info": {
   "codemirror_mode": {
    "name": "ipython",
    "version": 3
   },
   "file_extension": ".py",
   "mimetype": "text/x-python",
   "name": "python",
   "nbconvert_exporter": "python",
   "pygments_lexer": "ipython3",
   "version": "3.9.12"
  }
 },
 "nbformat": 4,
 "nbformat_minor": 1
}
